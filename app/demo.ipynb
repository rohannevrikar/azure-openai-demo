{
 "cells": [
  {
   "cell_type": "markdown",
   "metadata": {},
   "source": [
    "### Taking a look at embeddings"
   ]
  },
  {
   "cell_type": "markdown",
   "metadata": {},
   "source": [
    "Load document"
   ]
  },
  {
   "cell_type": "code",
   "execution_count": 3,
   "metadata": {},
   "outputs": [],
   "source": [
    "import json\n",
    "with open('data.json', 'r', encoding='utf-8') as file:\n",
    "    input_data = json.load(file)"
   ]
  },
  {
   "cell_type": "markdown",
   "metadata": {},
   "source": [
    "The purpose is to see what the embeddings look like for the corresponding input data. With the installation of SentenceTransformer lib, the embedding model all-MiniLM-L6-v2 also has been downloaded. \\\n",
    "all-MiniLM-L6-v2 maps text to 384 dimensional vector. \\\n",
    "We can also use Azure OpenAI's text-embedding-ada-002 model for this purpose.\\\n",
    "I'm using this locally as the model size is comparatively small (80mb) and could help with cost-memory-performance trade-off decision.\n"
   ]
  },
  {
   "cell_type": "code",
   "execution_count": null,
   "metadata": {},
   "outputs": [],
   "source": [
    "from sentence_transformers import SentenceTransformer\n",
    "\n",
    "model = SentenceTransformer('sentence-transformers/all-MiniLM-L6-v2')\n",
    "\n",
    "embeddings = model.encode(\"This is a sample text\")\n",
    "embeddings.shape\n"
   ]
  },
  {
   "cell_type": "markdown",
   "metadata": {},
   "source": [
    "Store embeddings in an output file"
   ]
  },
  {
   "cell_type": "code",
   "execution_count": 5,
   "metadata": {},
   "outputs": [],
   "source": [
    "for data in input_data:\n",
    "    embeddings = model.encode(data['content'])\n",
    "    data['contentVector'] = embeddings.tolist()\n",
    "\n",
    "with open(\"output.json\", \"w\") as f:\n",
    "    json.dump(input_data, f)"
   ]
  },
  {
   "cell_type": "markdown",
   "metadata": {},
   "source": [
    "### Using LLM for generating human-friendly response"
   ]
  },
  {
   "cell_type": "code",
   "execution_count": null,
   "metadata": {},
   "outputs": [],
   "source": [
    "from langchain.embeddings.sentence_transformer import SentenceTransformerEmbeddings\n",
    "from langchain.text_splitter import RecursiveCharacterTextSplitter\n",
    "from langchain.vectorstores import Chroma\n",
    "from langchain.document_loaders import TextLoader\n"
   ]
  },
  {
   "cell_type": "markdown",
   "metadata": {},
   "source": [
    "Load the document and split it into chunks. Splitting in chunks help with semantically related text being grouped together."
   ]
  },
  {
   "cell_type": "code",
   "execution_count": null,
   "metadata": {},
   "outputs": [],
   "source": [
    "loader = TextLoader(\"data.json\")\n",
    "documents = loader.load()\n",
    "text_splitter = RecursiveCharacterTextSplitter()\n",
    "all_splits = text_splitter.split_documents(documents)\n",
    "len(all_splits)"
   ]
  },
  {
   "cell_type": "markdown",
   "metadata": {},
   "source": [
    "We stored embeddings in our output file above for demo purposes. However, we need a way to store, retrieve, and compare embeddings. Vector databases do just that.\n",
    "\n",
    "Chroma is a popular open source vector database. These two lines of code generate and store embeddings in local disk."
   ]
  },
  {
   "cell_type": "code",
   "execution_count": 3,
   "metadata": {},
   "outputs": [],
   "source": [
    "embedding_function = SentenceTransformerEmbeddings(model_name=\"all-MiniLM-L6-v2\")\n",
    "\n",
    "db = Chroma.from_documents(all_splits, embedding_function)"
   ]
  },
  {
   "cell_type": "markdown",
   "metadata": {},
   "source": [
    "Our goal is to ask questions based on the content of the document. Language model is required for generating humn-like response. We'll use Azure OpenAI's gpt-35-turbo model for the same."
   ]
  },
  {
   "cell_type": "code",
   "execution_count": 4,
   "metadata": {},
   "outputs": [],
   "source": [
    "from dotenv import load_dotenv  \n",
    "load_dotenv()\n",
    "\n",
    "from langchain.chains import RetrievalQA\n",
    "from langchain.chat_models import AzureChatOpenAI\n",
    "import os\n",
    "\n",
    "llm = AzureChatOpenAI(deployment_name=os.getenv(\"AZURE_DEPLOYMENT_NAME\"),\n",
    "            model_name=\"gpt-35-turbo\",\n",
    "            openai_api_base=os.getenv(\"AZURE_OPENAI_ENDPOINT\"), \n",
    "            openai_api_version=os.getenv(\"AZURE_OPENAI_API_VERSION\"),\n",
    "            openai_api_key=os.getenv(\"AZURE_OPENAI_API_KEY\"),\n",
    "            openai_api_type=\"azure\")"
   ]
  },
  {
   "cell_type": "markdown",
   "metadata": {},
   "source": [
    "To return the most relevant answer to the query, the query's embeddings need to be compared with what is stored in the vector database.\n",
    "Retriever retrieves the most relevant document/chunk. We then pass that document/chunk to the LLM model. This way, we get to lock the context of the model, as the model generates response based on the input document/chunk.\n",
    "\n",
    "score_threshold helps with eliminating irrelevant queries"
   ]
  },
  {
   "cell_type": "code",
   "execution_count": null,
   "metadata": {},
   "outputs": [],
   "source": [
    "# query = \"What is the difference between Azure Databricks and Azure Data Factory?\"\n",
    "query = \"What is the distance between moon and earth\"\n",
    "# query = \"What is the best way to deploy to Azure?\"\n",
    "\n",
    "retriever = db.as_retriever(\n",
    "    search_type=\"similarity_score_threshold\",\n",
    "    search_kwargs={'score_threshold': 0.3}\n",
    ")\n",
    "\n",
    "rel_docs = retriever.get_relevant_documents(query)\n",
    "\n",
    "print(rel_docs)\n",
    "\n",
    "if len(rel_docs) > 0:\n",
    "    qa_chain = RetrievalQA.from_chain_type(llm,retriever=retriever)\n",
    "    print(qa_chain({\"query\": query}))\n"
   ]
  },
  {
   "cell_type": "markdown",
   "metadata": {},
   "source": [
    "### Using Azure OpenAI embeddings model\n",
    "\n",
    "Two differences from the implementation above-\n",
    "- Instead of a file, a webpage is the document\n",
    "- Azure OpenAI embedding model is used instead of the one downloaded locally (all-MiniLM-L6-v2)"
   ]
  },
  {
   "cell_type": "code",
   "execution_count": null,
   "metadata": {},
   "outputs": [],
   "source": [
    "from langchain.document_loaders import WebBaseLoader\n",
    "from langchain.text_splitter import RecursiveCharacterTextSplitter\n",
    "from langchain.embeddings import OpenAIEmbeddings\n",
    "import os\n",
    "from langchain.vectorstores import Chroma\n",
    "from langchain.chains import RetrievalQA\n",
    "from langchain.chat_models import AzureChatOpenAI\n",
    "\n",
    "from dotenv import load_dotenv  \n",
    "load_dotenv()\n",
    "\n",
    "loader = WebBaseLoader(\"https://prsindia.org/billtrack/digital-personal-data-protection-bill-2023\")\n",
    "\n",
    "\n",
    "data = loader.load_and_split()\n",
    "\n",
    "text_splitter = RecursiveCharacterTextSplitter()\n",
    "all_splits = text_splitter.split_documents(data)\n",
    "len(all_splits)\n",
    "\n",
    "embeddings = OpenAIEmbeddings(openai_api_key=os.getenv(\"AZURE_OPENAI_API_KEY\"), \n",
    "            openai_api_base=os.getenv(\"AZURE_OPENAI_ENDPOINT\"), \n",
    "            openai_api_type=\"azure\", \n",
    "            deployment=os.getenv(\"AZURE_EMBEDDING_DEPLOYMENT_NAME\"),\n",
    "            openai_api_version=os.getenv(\"AZURE_OPENAI_API_VERSION\")\n",
    "            )\n",
    "\n",
    "db = Chroma.from_documents(all_splits, embeddings)\n",
    "llm = AzureChatOpenAI(deployment_name=os.getenv(\"AZURE_DEPLOYMENT_NAME\"),\n",
    "            model_name=\"gpt-35-turbo\",\n",
    "            openai_api_base=os.getenv(\"AZURE_OPENAI_ENDPOINT\"), \n",
    "            openai_api_version=os.getenv(\"AZURE_OPENAI_API_VERSION\"),\n",
    "            openai_api_key=os.getenv(\"AZURE_OPENAI_API_KEY\"),\n",
    "            openai_api_type=\"azure\")"
   ]
  },
  {
   "cell_type": "code",
   "execution_count": null,
   "metadata": {},
   "outputs": [],
   "source": [
    "query = \"What is the distance between moon and earth?\"\n",
    "# query = \"What are the duties of data fiducaries in the Digital Personal Data Protection Bill?\"\n",
    "\n",
    "retriever=db.as_retriever(search_type='similarity_score_threshold', search_kwargs={'k':1, 'score_threshold': 0.1} )\n",
    "\n",
    "rel_docs = retriever.get_relevant_documents(query)\n",
    "\n",
    "print(rel_docs) \n",
    "    \n",
    "if len(rel_docs) > 0:\n",
    "    qa_chain = RetrievalQA.from_chain_type(llm,retriever=retriever)\n",
    "    print(qa_chain({\"query\": query}))"
   ]
  }
 ],
 "metadata": {
  "kernelspec": {
   "display_name": "venv",
   "language": "python",
   "name": "python3"
  },
  "language_info": {
   "codemirror_mode": {
    "name": "ipython",
    "version": 3
   },
   "file_extension": ".py",
   "mimetype": "text/x-python",
   "name": "python",
   "nbconvert_exporter": "python",
   "pygments_lexer": "ipython3",
   "version": "3.9.6"
  },
  "orig_nbformat": 4
 },
 "nbformat": 4,
 "nbformat_minor": 2
}
