{
 "cells": [
  {
   "cell_type": "markdown",
   "metadata": {},
   "source": [
    "### Taking a look at embeddings"
   ]
  },
  {
   "cell_type": "markdown",
   "metadata": {},
   "source": [
    "Load document"
   ]
  },
  {
   "cell_type": "code",
   "execution_count": 3,
   "metadata": {},
   "outputs": [],
   "source": [
    "import json\n",
    "with open('data.json', 'r', encoding='utf-8') as file:\n",
    "    input_data = json.load(file)"
   ]
  },
  {
   "cell_type": "markdown",
   "metadata": {},
   "source": [
    "The purpose is to see what the embeddings look like for the corresponding input data. With the installation of SentenceTransformer lib, the embedding model all-MiniLM-L6-v2 also has been downloaded. \\\n",
    "all-MiniLM-L6-v2 maps text to 384 dimensional vector. \\\n",
    "We can also use Azure OpenAI's text-embedding-ada-002 model for this purpose.\\\n",
    "I'm using this locally as the model size is comparatively small (80mb) and could help with cost-memory-performance trade-off decision.\n"
   ]
  },
  {
   "cell_type": "code",
   "execution_count": 4,
   "metadata": {},
   "outputs": [
    {
     "name": "stderr",
     "output_type": "stream",
     "text": [
      "/Users/rohannevrikar/Desktop/repos/azure-openai-demo/venv/lib/python3.9/site-packages/urllib3/__init__.py:34: NotOpenSSLWarning: urllib3 v2.0 only supports OpenSSL 1.1.1+, currently the 'ssl' module is compiled with 'LibreSSL 2.8.3'. See: https://github.com/urllib3/urllib3/issues/3020\n",
      "  warnings.warn(\n"
     ]
    },
    {
     "data": {
      "text/plain": [
       "(384,)"
      ]
     },
     "execution_count": 4,
     "metadata": {},
     "output_type": "execute_result"
    }
   ],
   "source": [
    "from sentence_transformers import SentenceTransformer\n",
    "\n",
    "model = SentenceTransformer('sentence-transformers/all-MiniLM-L6-v2')\n",
    "\n",
    "embeddings = model.encode(\"This is a sample text\")\n",
    "embeddings.shape\n"
   ]
  },
  {
   "cell_type": "markdown",
   "metadata": {},
   "source": [
    "Store embeddings in an output file"
   ]
  },
  {
   "cell_type": "code",
   "execution_count": 5,
   "metadata": {},
   "outputs": [],
   "source": [
    "for data in input_data:\n",
    "    embeddings = model.encode(data['content'])\n",
    "    data['contentVector'] = embeddings.tolist()\n",
    "\n",
    "with open(\"output.json\", \"w\") as f:\n",
    "    json.dump(input_data, f)"
   ]
  },
  {
   "cell_type": "markdown",
   "metadata": {},
   "source": [
    "### Using LLM for generating human-friendly response"
   ]
  },
  {
   "cell_type": "code",
   "execution_count": 1,
   "metadata": {},
   "outputs": [
    {
     "name": "stderr",
     "output_type": "stream",
     "text": [
      "/Users/rohannevrikar/Desktop/repos/azure-openai-demo/venv/lib/python3.9/site-packages/urllib3/__init__.py:34: NotOpenSSLWarning: urllib3 v2.0 only supports OpenSSL 1.1.1+, currently the 'ssl' module is compiled with 'LibreSSL 2.8.3'. See: https://github.com/urllib3/urllib3/issues/3020\n",
      "  warnings.warn(\n"
     ]
    }
   ],
   "source": [
    "from langchain.embeddings.sentence_transformer import SentenceTransformerEmbeddings\n",
    "from langchain.text_splitter import RecursiveCharacterTextSplitter\n",
    "from langchain.vectorstores import Chroma\n",
    "from langchain.document_loaders import TextLoader\n"
   ]
  },
  {
   "cell_type": "markdown",
   "metadata": {},
   "source": [
    "Load the document and split it into chunks. Splitting in chunks help with semantically related text being grouped together."
   ]
  },
  {
   "cell_type": "code",
   "execution_count": 2,
   "metadata": {},
   "outputs": [
    {
     "data": {
      "text/plain": [
       "18"
      ]
     },
     "execution_count": 2,
     "metadata": {},
     "output_type": "execute_result"
    }
   ],
   "source": [
    "loader = TextLoader(\"data.json\")\n",
    "documents = loader.load()\n",
    "text_splitter = RecursiveCharacterTextSplitter()\n",
    "all_splits = text_splitter.split_documents(documents)\n",
    "len(all_splits)"
   ]
  },
  {
   "cell_type": "markdown",
   "metadata": {},
   "source": [
    "We stored embeddings in our output file above for demo purposes. However, we need a way to store, retrieve, and compare embeddings. Vector databases do just that.\n",
    "\n",
    "Chroma is a popular open source vector database. These two lines of code generate and store embeddings in local disk."
   ]
  },
  {
   "cell_type": "code",
   "execution_count": 3,
   "metadata": {},
   "outputs": [],
   "source": [
    "embedding_function = SentenceTransformerEmbeddings(model_name=\"all-MiniLM-L6-v2\")\n",
    "\n",
    "db = Chroma.from_documents(all_splits, embedding_function)"
   ]
  },
  {
   "cell_type": "markdown",
   "metadata": {},
   "source": [
    "Our goal is to ask questions based on the content of the document. Language model is required for generating humn-like response. We'll use Azure OpenAI's gpt-35-turbo model for the same."
   ]
  },
  {
   "cell_type": "code",
   "execution_count": 4,
   "metadata": {},
   "outputs": [],
   "source": [
    "from dotenv import load_dotenv  \n",
    "load_dotenv()\n",
    "\n",
    "from langchain.chains import RetrievalQA\n",
    "from langchain.chat_models import AzureChatOpenAI\n",
    "import os\n",
    "\n",
    "llm = AzureChatOpenAI(deployment_name=os.getenv(\"AZURE_DEPLOYMENT_NAME\"),\n",
    "            model_name=\"gpt-35-turbo\",\n",
    "            openai_api_base=os.getenv(\"AZURE_OPENAI_ENDPOINT\"), \n",
    "            openai_api_version=os.getenv(\"AZURE_OPENAI_API_VERSION\"),\n",
    "            openai_api_key=os.getenv(\"AZURE_OPENAI_API_KEY\"),\n",
    "            openai_api_type=\"azure\")"
   ]
  },
  {
   "cell_type": "markdown",
   "metadata": {},
   "source": [
    "To return the most relevant answer to the query, the query's embeddings need to be compared with what is stored in the vector database.\n",
    "Retriever retrieves the most relevant document/chunk. We then pass that document/chunk to the LLM model. This way, we get to lock the context of the model, as the model generates response based on the input document/chunk.\n",
    "\n",
    "score_threshold helps with eliminating irrelevant queries"
   ]
  },
  {
   "cell_type": "code",
   "execution_count": 9,
   "metadata": {},
   "outputs": [
    {
     "name": "stdout",
     "output_type": "stream",
     "text": [
      "[]\n"
     ]
    },
    {
     "name": "stderr",
     "output_type": "stream",
     "text": [
      "/Users/rohannevrikar/Desktop/repos/azure-openai-demo/venv/lib/python3.9/site-packages/langchain/vectorstores/base.py:254: UserWarning: Relevance scores must be between 0 and 1, got [(Document(page_content='},\\n    {\\n        \"content\": \"Azure Private DNS is a fully managed, private Domain Name System (DNS) service that enables you to manage and resolve domain names in your virtual network. It provides features like custom domains, DNS-based load balancing, and private access. Private DNS supports various Azure services, such as Azure Virtual Machines, Azure App Service, and Azure Kubernetes Service. You can use Azure Private DNS to build isolated environments, simplify your network management, and ensure the security of your DNS traffic. It also integrates with other Azure services, such as Azure Virtual Network and Azure Traffic Manager.\"\\n    },\\n    {\\n        \"content\": \"Azure DevTest Labs is a fully managed service that enables you to create, manage, and share development and test environments in Azure. It provides features like custom templates, cost management, and integration with Azure DevOps. DevTest Labs supports various platforms, such as Windows, Linux, and Kubernetes. You can use Azure DevTest Labs to improve your application development lifecycle, reduce your costs, and ensure the consistency of your environments. It also integrates with other Azure services, such as Azure Virtual Machines and Azure App Service.\"\\n    },\\n    {\\n        \"content\": \"Azure Functions is a serverless compute service that enables you to run event-driven code without managing the underlying infrastructure. It provides features like automatic scaling, triggers, and bindings. Functions supports various programming languages, such as C#, Java, and Python. You can use Azure Functions to build microservices, integrate with other Azure services, and process and transform data. It also integrates with other Azure services, such as Azure Event Hubs, Azure Storage, and Azure Cosmos DB.\"\\n    },\\n    {\\n        \"content\": \"Azure SignalR Service is a fully managed, real-time messaging service that enables you to build and scale real-time web applications. It provides features like automatic scaling, WebSocket support, and serverless integration. SignalR Service supports various programming languages, such as C#, JavaScript, and Java. You can use Azure SignalR Service to build chat applications, real-time dashboards, and collaborative tools. It also integrates with other Azure services, such as Azure Functions and Azure App Service.\"\\n    },\\n    {\\n        \"content\": \"Azure Blockchain Service is a fully managed, multi-ledger blockchain platform that enables you to build and manage blockchain applications. It provides features like consortium management, private transactions, and integration with Azure Logic Apps. Blockchain Service supports various blockchain protocols, such as Ethereum and Hyperledger Fabric. You can use Azure Blockchain Service to build secure and compliant applications, streamline your business processes, and improve trust and transparency. It also integrates with other Azure services, such as Azure Active Directory and Azure Key Vault.\"\\n    },\\n    {\\n        \"content\": \"Azure Database for MySQL is a fully managed, scalable, and secure relational database service that enables you to build and manage MySQL applications in Azure. It provides features like automatic backups, monitoring, and high availability. Database for MySQL supports various data types, such as JSON, spatial, and full-text. You can use Azure Database for MySQL to migrate your existing applications, build new applications, and ensure the performance and security of your data. It also integrates with other Azure services, such as Azure App Service and Azure Data Factory.\"\\n    },\\n    {', metadata={'source': 'data.json'}), -0.32704663039462223), (Document(page_content='},\\n    {\\n        \"content\": \"Azure Cache for Redis is a fully managed, in-memory data store that enables you to build highly responsive and scalable applications. It provides features like data persistence, high availability, and automatic scaling. Cache for Redis supports various data structures, such as strings, lists, sets, and hashes. You can use Azure Cache for Redis to improve the performance of your applications, offload your databases, and reduce the latency of your data access. It also integrates with other Azure services, such as Azure App Service and Azure Kubernetes Service.\"\\n    },\\n    {\\n        \"content\": \"Azure Blob Storage is a scalable, durable, and high-performance object storage service for unstructured data. It provides features like data redundancy, geo-replication, and fine-grained access control. Blob Storage supports various data types, such as images, documents, and videos. You can use Blob Storage to store and manage your data, build data lakes, and develop big data analytics solutions. It also integrates with other Azure services, such as Azure CDN, Azure Functions, and Azure Machine Learning.\"\\n    },\\n    {\\n        \"content\": \"Azure File Storage is a fully managed, scalable, and secure file sharing service that enables you to store and access your files over the Server Message Block (SMB) protocol. It provides features like snapshots, shared access signatures, and integration with Azure Backup. File Storage supports various platforms, such as Windows, Linux, and macOS. You can use Azure File Storage to build file sharing solutions, lift and shift your applications to the cloud, and simplify your data management. It also integrates with other Azure services, such as Azure Virtual Machines and Azure Kubernetes Service.\"\\n    },\\n    {\\n        \"content\": \"Azure Table Storage is a fully managed, NoSQL datastore that enables you to store and query large amounts of structured, non-relational data. It provides features like automatic scaling, schema-less design, and a RESTful API. Table Storage supports various data types, such as strings, numbers, and booleans. You can use Azure Table Storage to store and manage your data, build scalable applications, and reduce the cost of your storage. It also integrates with other Azure services, such as Azure Functions and Azure Cosmos DB.\"\\n    },\\n    {\\n        \"content\": \"Azure Queue Storage is a fully managed, scalable, and durable message queuing service that enables you to decouple your applications and build asynchronous solutions. It provides features like at-least-once delivery, message time-to-live, and a RESTful API. Queue Storage supports various programming languages, such as C#, Java, and Python. You can use Azure Queue Storage to build distributed applications, offload your databases, and process and store large volumes of messages. It also integrates with other Azure services, such as Azure Functions and Azure Logic Apps.\"\\n    },\\n    {\\n        \"content\": \"Azure Data Box is a family of data transfer devices that enables you to securely and efficiently transfer your data to Azure. It provides features like offline data transfer, data encryption, and chain of custody. Data Box supports various data types, such as files, databases, and virtual machines. You can use Azure Data Box to migrate your data, build data lakes, and perform data backup and archiving. It also integrates with other Azure services, such as Azure Storage and Azure Synapse Analytics.\"\\n    },\\n    {', metadata={'source': 'data.json'}), -0.3896986793493393), (Document(page_content='[\\n    {\\n        \"content\": \"Azure App Service is a fully managed platform for building, deploying, and scaling web apps. You can host web apps, mobile app backends, and RESTful APIs. It supports a variety of programming languages and frameworks, such as .NET, Java, Node.js, Python, and PHP. The service offers built-in auto-scaling and load balancing capabilities. It also provides integration with other Azure services, such as Azure DevOps, GitHub, and Bitbucket.\"\\n    },\\n    {\\n        \"content\": \"Azure Functions is a serverless compute service that enables you to run code on-demand without having to manage infrastructure. It allows you to build and deploy event-driven applications that automatically scale with your workload. Functions support various languages, including C#, F#, Node.js, Python, and Java. It offers a variety of triggers and bindings to integrate with other Azure services and external services. You only pay for the compute time you consume.\"\\n    },\\n    {\\n        \"content\": \"Azure Cognitive Services are a set of AI services that enable you to build intelligent applications with powerful algorithms using just a few lines of code. These services cover a wide range of capabilities, including vision, speech, language, knowledge, and search. They are designed to be easy to use and integrate into your applications. Cognitive Services are fully managed, scalable, and continuously improved by Microsoft. It allows developers to create AI-powered solutions without deep expertise in machine learning.\"\\n    },\\n    {\\n        \"content\": \"Azure Storage is a scalable, durable, and highly available cloud storage service that supports a variety of data types, including blobs, files, queues, and tables. It provides a massively scalable object store for unstructured data. Storage supports data redundancy and geo-replication, ensuring high durability and availability. It offers a variety of data access and management options, including REST APIs, SDKs, and Azure Portal. You can secure your data using encryption at rest and in transit.\"\\n    },\\n    {\\n        \"content\": \"Azure SQL Database is a fully managed relational database service based on the latest stable version of Microsoft SQL Server. It offers built-in intelligence that learns your application patterns and adapts to maximize performance, reliability, and data protection. SQL Database supports elastic scaling, allowing you to dynamically adjust resources to match your workload. It provides advanced security features, such as encryption, auditing, and threat detection. You can migrate your existing SQL Server databases to Azure SQL Database with minimal downtime.\"\\n    },\\n    {\\n        \"content\": \"Azure Cosmos DB is a fully managed, globally distributed, multi-model database service designed for building highly responsive and scalable applications. It offers turnkey global distribution, automatic and instant scalability, and guarantees low latency, high availability, and consistency. Cosmos DB supports popular NoSQL APIs, including MongoDB, Cassandra, Gremlin, and Azure Table Storage. You can build globally distributed applications with ease, without having to deal with complex configuration and capacity planning. Data stored in Cosmos DB is automatically indexed, enabling you to query your data with SQL, JavaScript, or other supported query languages.\"\\n    },\\n    {', metadata={'source': 'data.json'}), -0.39453688467729897), (Document(page_content='},\\n    {\\n        \"content\": \"Azure Kubernetes Service (AKS) is a managed container orchestration service based on the popular open-source Kubernetes system. It simplifies Kubernetes deployment and management, making it easy for developers and administrators to deploy, scale, and manage containerized applications. AKS offers automatic upgrades, scaling, and self-healing capabilities, reducing the operational overhead of managing Kubernetes clusters. It also integrates with Azure services like Azure Active Directory, Azure Monitor, and Azure Policy, providing a seamless experience for managing your applications and infrastructure.\"\\n    },\\n    {\\n        \"content\": \"Azure Virtual Machines (VMs) is an Infrastructure-as-a-Service (IaaS) offering that allows you to deploy and manage virtual machines in the cloud. You can choose from a wide range of VM sizes, operating systems, and software configurations. VMs support various operating systems, including Windows Server, Linux, and SQL Server. You can scale your VMs up or down as needed, and pay only for the resources you use. VMs provide built-in security features, such as Azure Security Center, Azure Active Directory, and encryption.\"\\n    },\\n    {\\n        \"content\": \"Azure DevOps is a suite of services that help you plan, build, and deploy applications. It includes Azure Boards for work item tracking, Azure Repos for source code management, Azure Pipelines for continuous integration and continuous deployment, Azure Test Plans for manual and automated testing, and Azure Artifacts for package management. DevOps supports a wide range of programming languages, frameworks, and platforms, making it easy to integrate with your existing development tools and processes. It also integrates with other Azure services, such as Azure App Service and Azure Functions.\"\\n    },\\n    {\\n        \"content\": \"Azure IoT Hub is a managed service that enables you to connect, monitor, and manage billions of IoT devices. It provides secure and reliable communication between your IoT devices and your backend solution. IoT Hub supports multiple communication protocols, including MQTT, AMQP, and HTTPS. It offers device-to-cloud and cloud-to-device messaging, device management, and device twin capabilities. With IoT Hub, you can build scalable and secure IoT solutions that integrate with other Azure services and custom applications.\"\\n    },\\n    {\\n        \"content\": \"Azure Machine Learning is a cloud-based service for building, training, and deploying machine learning models. It offers a visual interface for creating and managing experiments, as well as support for popular programming languages like Python and R. Machine Learning supports various algorithms, frameworks, and data sources, making it easy to integrate with your existing data and workflows. You can deploy your models as web services, and scale them based on your needs. It also integrates with other Azure services, such as Azure Databricks and Azure Data Factory.\"\\n    },\\n    {\\n        \"content\": \"Azure Databricks is an Apache Spark-based analytics platform optimized for the Azure cloud. It provides a collaborative workspace for data scientists, engineers, and business users to process, analyze, and visualize big data. Databricks supports multiple programming languages, including Python, Scala, R, and SQL. It offers built-in integration with Azure Blob Storage, Azure Data Lake Storage, and Azure Cosmos DB. You can also use Databricks to train and deploy machine learning models, and integrate with Azure Machine Learning.\"\\n    },\\n    {', metadata={'source': 'data.json'}), -0.3945517203679747)]\n",
      "  warnings.warn(\n",
      "/Users/rohannevrikar/Desktop/repos/azure-openai-demo/venv/lib/python3.9/site-packages/langchain/vectorstores/base.py:266: UserWarning: No relevant docs were retrieved using the relevance score threshold 0.3\n",
      "  warnings.warn(\n"
     ]
    }
   ],
   "source": [
    "# query = \"What is the difference between Azure Databricks and Azure Data Factory?\"\n",
    "query = \"What is the distance between moon and earth\"\n",
    "# query = \"What is the best way to deploy to Azure?\"\n",
    "\n",
    "retriever = db.as_retriever(\n",
    "    search_type=\"similarity_score_threshold\",\n",
    "    search_kwargs={'score_threshold': 0.3}\n",
    ")\n",
    "\n",
    "rel_docs = retriever.get_relevant_documents(query)\n",
    "\n",
    "print(rel_docs)\n",
    "\n",
    "if len(rel_docs) > 0:\n",
    "    qa_chain = RetrievalQA.from_chain_type(llm,retriever=retriever)\n",
    "    print(qa_chain({\"query\": query}))\n"
   ]
  },
  {
   "cell_type": "markdown",
   "metadata": {},
   "source": [
    "### Using Azure OpenAI embeddings model\n",
    "\n",
    "Two differences from the implementation above-\n",
    "- Instead of a file, a webpage is the document\n",
    "- Azure OpenAI embedding model is used instead of the one downloaded locally (all-MiniLM-L6-v2)"
   ]
  },
  {
   "cell_type": "code",
   "execution_count": 1,
   "metadata": {},
   "outputs": [
    {
     "name": "stderr",
     "output_type": "stream",
     "text": [
      "/Users/rohannevrikar/Desktop/repos/azure-openai-demo/venv/lib/python3.9/site-packages/urllib3/__init__.py:34: NotOpenSSLWarning: urllib3 v2.0 only supports OpenSSL 1.1.1+, currently the 'ssl' module is compiled with 'LibreSSL 2.8.3'. See: https://github.com/urllib3/urllib3/issues/3020\n",
      "  warnings.warn(\n"
     ]
    }
   ],
   "source": [
    "from langchain.document_loaders import WebBaseLoader\n",
    "from langchain.text_splitter import RecursiveCharacterTextSplitter\n",
    "from langchain.embeddings import OpenAIEmbeddings\n",
    "import os\n",
    "from langchain.vectorstores import Chroma\n",
    "from langchain.chains import RetrievalQA\n",
    "from langchain.chat_models import AzureChatOpenAI\n",
    "\n",
    "from dotenv import load_dotenv  \n",
    "load_dotenv()\n",
    "\n",
    "loader = WebBaseLoader(\"https://prsindia.org/billtrack/digital-personal-data-protection-bill-2023\")\n",
    "\n",
    "\n",
    "data = loader.load_and_split()\n",
    "\n",
    "text_splitter = RecursiveCharacterTextSplitter()\n",
    "all_splits = text_splitter.split_documents(data)\n",
    "len(all_splits)\n",
    "\n",
    "embeddings = OpenAIEmbeddings(openai_api_key=os.getenv(\"AZURE_OPENAI_API_KEY\"), \n",
    "            openai_api_base=os.getenv(\"AZURE_OPENAI_ENDPOINT\"), \n",
    "            openai_api_type=\"azure\", \n",
    "            deployment=os.getenv(\"AZURE_EMBEDDING_DEPLOYMENT_NAME\"),\n",
    "            openai_api_version=os.getenv(\"AZURE_OPENAI_API_VERSION\")\n",
    "            )\n",
    "\n",
    "db = Chroma.from_documents(all_splits, embeddings)\n",
    "llm = AzureChatOpenAI(deployment_name=os.getenv(\"AZURE_DEPLOYMENT_NAME\"),\n",
    "            model_name=\"gpt-35-turbo\",\n",
    "            openai_api_base=os.getenv(\"AZURE_OPENAI_ENDPOINT\"), \n",
    "            openai_api_version=os.getenv(\"AZURE_OPENAI_API_VERSION\"),\n",
    "            openai_api_key=os.getenv(\"AZURE_OPENAI_API_KEY\"),\n",
    "            openai_api_type=\"azure\")"
   ]
  },
  {
   "cell_type": "code",
   "execution_count": 4,
   "metadata": {},
   "outputs": [
    {
     "name": "stdout",
     "output_type": "stream",
     "text": [
      "[Document(page_content='Relevant Links\\n\\nPRS Products\\n\\n\\nPRS Legislative Brief\\n\\n\\nPRS Bill Summary\\n\\n\\n\\n\\nOriginal Text\\n\\n\\nBill Text\\n\\n\\nDigital Personal Data Protection Act, 2023\\n\\n\\n\\n\\n\\n\\n\\n\\n\\n\\n\\n\\n\\n\\n\\n\\n×\\n\\n\\n\\n\\nEducation(Graduation) : \\nEducation(Post Graduation) : \\n\\n\\n\\n\\n\\n\\n\\n\\n\\n\\n\\n\\n\\n\\n\\n\\n\\n\\n\\n\\nFollow Us\\n\\n\\n\\n\\n\\n\\n\\n\\n\\n\\n\\n\\n\\n\\n\\n\\n\\n\\n\\n\\n\\n\\n\\n\\n\\n\\nPRS Legislative Research is licensed under a Creative Commons Attribution 4.0 International License\\nDisclaimer: This data is being furnished to you for your information. PRS makes every effort to use reliable and comprehensive information, but PRS does not represent that this information is accurate or complete. PRS is an independent, not-for-profit group. This data has been collated without regard to the objectives or opinions of those who may receive it.\\n\\n\\n\\n \\n\\n\\n\\n\\n\\n\\n\\n\\n\\n\\n\\n\\nAbout Us\\nCareers\\n\\n\\n\\n\\n\\n\\n\\nCopyright © 2023 \\xa0\\xa0 prsindia.org \\xa0\\xa0 All Rights Reserved.', metadata={'language': 'en-US', 'source': 'https://prsindia.org/billtrack/digital-personal-data-protection-bill-2023', 'title': 'The Digital Personal Data Protection Bill, 2023'})]\n",
      "{'query': 'What is the distance between moon and earth?', 'result': 'The context provided does not contain any information related to the distance between the moon and the earth. However, according to NASA, the average distance between the moon and the earth is about 238,855 miles (384,400 kilometers).'}\n"
     ]
    }
   ],
   "source": [
    "query = \"What is the distance between moon and earth?\"\n",
    "# query = \"What are the duties of data fiducaries in the Digital Personal Data Protection Bill?\"\n",
    "\n",
    "retriever=db.as_retriever(search_type='similarity_score_threshold', search_kwargs={'k':1, 'score_threshold': 0.1} )\n",
    "\n",
    "rel_docs = retriever.get_relevant_documents(query)\n",
    "\n",
    "print(rel_docs) \n",
    "    \n",
    "if len(rel_docs) > 0:\n",
    "    qa_chain = RetrievalQA.from_chain_type(llm,retriever=retriever)\n",
    "    print(qa_chain({\"query\": query}))"
   ]
  }
 ],
 "metadata": {
  "kernelspec": {
   "display_name": "venv",
   "language": "python",
   "name": "python3"
  },
  "language_info": {
   "codemirror_mode": {
    "name": "ipython",
    "version": 3
   },
   "file_extension": ".py",
   "mimetype": "text/x-python",
   "name": "python",
   "nbconvert_exporter": "python",
   "pygments_lexer": "ipython3",
   "version": "3.9.6"
  },
  "orig_nbformat": 4
 },
 "nbformat": 4,
 "nbformat_minor": 2
}
